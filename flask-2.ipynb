{
 "cells": [
  {
   "cell_type": "code",
   "execution_count": null,
   "metadata": {},
   "outputs": [],
   "source": [
    "#Q1\n",
    "'''\n",
    "GET and POST are two commonly used HTTP methods in web development:\n",
    "\n",
    "GET method:\n",
    "\n",
    "GET is used to request data from a specified resource.\n",
    "It is a safe and idempotent method, meaning multiple identical requests will have the same result.\n",
    "When a browser accesses a URL or a user submits a form using the GET method, the data is appended to the URL as parameters. For example: https://example.com/search?query=flask.\n",
    "It is suitable for retrieving data, but it should not be used for sensitive data or when data modifications are involved because the data is visible in the URL.\n",
    "\n",
    "\n",
    "POST method:\n",
    "\n",
    "POST is used to submit data to be processed to a specified resource.\n",
    "It is not safe and not idempotent, meaning multiple identical POST requests may have different outcomes, as it can cause data to change on the server.\n",
    "When a form is submitted using the POST method, the data is sent in the request body, making it more secure for sensitive information.\n",
    "It is suitable for operations that modify data, like submitting forms, creating new resources, or performing other actions.\n",
    "In summary, GET is used to retrieve data, and POST is used to submit data.'''"
   ]
  },
  {
   "cell_type": "code",
   "execution_count": null,
   "metadata": {},
   "outputs": [],
   "source": [
    "#Q2\n",
    "'''\n",
    "In Flask, a request is an object that represents an HTTP request made by a client to the server. When a user interacts with a Flask application by accessing a URL or submitting a form, the server receives the request and processes it accordingly.\n",
    "The request object provides access to various parts of the HTTP request, such as form data, query parameters, headers, cookies, etc.\n",
    "\n",
    "Flask uses the request object to extract data sent by the client, allowing developers to handle and respond to different types of requests effectively. By accessing the request object, developers can access the information sent by the client and use it to generate responses, perform actions, or retrieve specific data.'''"
   ]
  },
  {
   "cell_type": "code",
   "execution_count": null,
   "metadata": {},
   "outputs": [],
   "source": [
    "#Q3\n",
    "'''\n",
    "In Flask, redirect() is a function that allows you to perform a redirection to a different URL. It is used when you want to direct the user to another route or a different website. \n",
    "The most common use case is after processing a form submission or completing an action, redirecting the user to a new page, instead of showing them the same page again.\n",
    "\n",
    "The primary purpose of using redirect() is to maintain the principle of \"Post/Redirect/Get\" (PRG). PRG is a design pattern that suggests after handling a POST request (e.g.\n",
    ", form submission), the server should redirect the client to another URL using the GET method. This avoids resubmitting data when users refresh the page and helps prevent unintended duplicate actions.'''"
   ]
  },
  {
   "cell_type": "code",
   "execution_count": null,
   "metadata": {},
   "outputs": [],
   "source": [
    "#Q4\n",
    "'''\n",
    "Templates in Flask are files that contain the structure and layout of the HTML pages presented to users. They allow developers to separate the presentation layer from the application logic. With templates, \n",
    "you can define dynamic content using placeholders and control structures, which are later filled in with actual data when the template is rendered.\n",
    "\n",
    "The render_template() function is a core part of Flask's templating engine. It is used to render templates by combining them with data from the Flask application. When you call render_template(),\n",
    "Flask looks for the specified template file in the templates folder (by default) and processes it, replacing placeholders with the appropriate data.\n",
    "\n",
    "For example, in Flask, you might have a route that renders an HTML page using a template:'''\n",
    "from flask import Flask, render_template\n",
    "\n",
    "app = Flask(__name__)\n",
    "\n",
    "@app.route('/')\n",
    "def index():\n",
    "    user_name = \"Ayush\"\n",
    "    return render_template('index.html', name=user_name)\n"
   ]
  }
 ],
 "metadata": {
  "language_info": {
   "name": "python"
  },
  "orig_nbformat": 4
 },
 "nbformat": 4,
 "nbformat_minor": 2
}
